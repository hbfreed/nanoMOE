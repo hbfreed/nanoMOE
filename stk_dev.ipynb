{
 "cells": [
  {
   "cell_type": "code",
   "execution_count": null,
   "metadata": {},
   "outputs": [],
   "source": [
    "import torch\n",
    "import stk.random\n",
    "import stk.ops\n",
    "\n",
    "# Use standard block size of 128\n",
    "block_size = 128\n",
    "\n",
    "# Ensure dimensions are multiples of block_size\n",
    "m = 1024  # 1024 = 8 * 128 ✓\n",
    "n = 2048  # 2048 = 16 * 128 ✓ \n",
    "hidden_size = 512  # 512 = 4 * 128 ✓\n",
    "\n",
    "# Create the topology\n",
    "sparsity = 0.5\n",
    "topo = stk.random.mask(m, n, sparsity, block_size).to('cuda')\n",
    "\n",
    "# First operation: sdd (dense × dense → sparse)\n",
    "a = torch.randn(m, hidden_size, device='cuda')\n",
    "w1 = torch.randn(hidden_size, n, device='cuda')\n",
    "block_sparse = stk.ops.sdd(a, w1, topo)\n",
    "\n",
    "# Second operation: dsd (sparse × dense → dense)\n",
    "w2 = torch.randn(n, hidden_size, device='cuda')\n",
    "output = stk.ops.dsd(block_sparse, w2) #dsd outputs a tensor! very nice. \n",
    "\n",
    "print(f\"Output shape: {output.shape}\")  # Should be (m, hidden_size)"
   ]
  },
  {
   "cell_type": "code",
   "execution_count": 2,
   "metadata": {},
   "outputs": [
    {
     "name": "stdout",
     "output_type": "stream",
     "text": [
      "Loss: 518487.7812\n",
      "\n",
      "Gradients computed:\n",
      "x.grad shape: torch.Size([1024, 512]), norm: 2381.9978\n",
      "w1.grad shape: torch.Size([512, 2048]), norm: 2482.5469\n",
      "w2.grad shape: torch.Size([2048, 512]), norm: 2263.8528\n"
     ]
    }
   ],
   "source": [
    "import torch\n",
    "import stk.random\n",
    "import stk.ops\n",
    "\n",
    "# Setup\n",
    "block_size = 128\n",
    "m, n = 1024, 2048\n",
    "hidden_size = 512\n",
    "sparsity = 0.5\n",
    "\n",
    "# Create topology (this doesn't need gradients)\n",
    "topo = stk.random.mask(m, n, sparsity, block_size).to('cuda')\n",
    "\n",
    "# Create input and weights WITH gradient tracking\n",
    "x = torch.randn(m, hidden_size, device='cuda', requires_grad=True)\n",
    "w1 = torch.randn(hidden_size, n, device='cuda', requires_grad=True)\n",
    "w2 = torch.randn(n, hidden_size, device='cuda', requires_grad=True)\n",
    "\n",
    "# Forward pass\n",
    "sparse_hidden = stk.ops.sdd(x, w1, topo)  # x @ w1 with sparse output\n",
    "output = stk.ops.dsd(sparse_hidden, w2)   # sparse @ w2 with dense output\n",
    "\n",
    "# Create a simple loss\n",
    "target = torch.randn_like(output)\n",
    "loss = torch.nn.functional.mse_loss(output, target)\n",
    "\n",
    "print(f\"Loss: {loss.item():.4f}\")\n",
    "\n",
    "# Backward pass\n",
    "loss.backward()\n",
    "\n",
    "# Check gradients\n",
    "print(f\"\\nGradients computed:\")\n",
    "print(f\"x.grad shape: {x.grad.shape}, norm: {x.grad.norm().item():.4f}\")\n",
    "print(f\"w1.grad shape: {w1.grad.shape}, norm: {w1.grad.norm().item():.4f}\")\n",
    "print(f\"w2.grad shape: {w2.grad.shape}, norm: {w2.grad.norm().item():.4f}\")"
   ]
  }
 ],
 "metadata": {
  "kernelspec": {
   "display_name": "Python 3",
   "language": "python",
   "name": "python3"
  },
  "language_info": {
   "codemirror_mode": {
    "name": "ipython",
    "version": 3
   },
   "file_extension": ".py",
   "mimetype": "text/x-python",
   "name": "python",
   "nbconvert_exporter": "python",
   "pygments_lexer": "ipython3",
   "version": "3.10.12"
  }
 },
 "nbformat": 4,
 "nbformat_minor": 2
}
